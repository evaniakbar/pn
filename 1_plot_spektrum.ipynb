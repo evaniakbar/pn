{
 "cells": [
  {
   "cell_type": "markdown",
   "id": "578cc228",
   "metadata": {},
   "source": [
    "# 1.  Plot spektrum dari suatu file tabel"
   ]
  },
  {
   "cell_type": "markdown",
   "id": "53f58371",
   "metadata": {},
   "source": [
    "Kita akan memplot spektrum dari sebuah file csv (comma separated value) di PC. Sebagai contoh, kita akan menggunakan file bernama *namafile.csv*. \n",
    "\n",
    "Berikut isi dari file tersebut:  \n",
    "3515.605713,1.94E-16 <br>\n",
    "3517.463029,1.83E-16 <br>\n",
    "3519.320346,1.07E-16 <br>\n",
    "3521.177662,1.51E-16 <br>\n",
    "3523.034979,2.29E-16 <br>\n",
    "3524.892295,2.76E-17 <br>\n",
    ".... <br>\n",
    "9938.206055,-4.26E-16 <br>\n",
    "\n",
    "Data di dalam file tersebut berupa tabel yang dipisahkan oleh tanda koma (,)."
   ]
  },
  {
   "cell_type": "markdown",
   "id": "52f8a834",
   "metadata": {},
   "source": [
    "Pertama, kita akan menggunakan 2 package di python, yakni *astropy.units* dan *numpy*. "
   ]
  },
  {
   "cell_type": "code",
   "execution_count": 2,
   "id": "1da1e681",
   "metadata": {},
   "outputs": [],
   "source": [
    "import astropy.units as u\n",
    "import numpy as np"
   ]
  },
  {
   "cell_type": "markdown",
   "id": "455811c0",
   "metadata": {},
   "source": [
    "Kolom pertama pada data tabel menunjukkan panjang gelombang (dalam satuan Angstrom) dan kolom kedua menunjukkan fluks (dalam satuan erg cm$^{-2}$ s$^{-1}$). Satuan ini tidak tertulis secara eksplisit di file tersebut, padahal kita membutuhkannya untuk melakukan analisis data.\n",
    "\n",
    "Satuan angstrom sudah ada dalam database astropy.units. Namun sayangnya, satuan fluks erg cm$^{-2}$ s$^{-1}$ belum ada sehingga kita harus mendefinisikan satuan tersebut."
   ]
  },
  {
   "cell_type": "code",
   "execution_count": 3,
   "id": "c60b1a7d",
   "metadata": {},
   "outputs": [],
   "source": [
    "fluxunit = u.erg / (u.cm ** 2 * u.s)"
   ]
  },
  {
   "cell_type": "markdown",
   "id": "3c23cc94",
   "metadata": {},
   "source": [
    "Buka file *namafile.csv* dengan perintah *np.loadtxt* lalu pisahkan data kolom pertama dalam suatu array data baru bernama *wave* dan kolom data kedua sebagai array bernama *flux*."
   ]
  },
  {
   "cell_type": "code",
   "execution_count": 12,
   "id": "4a1ba51a",
   "metadata": {},
   "outputs": [],
   "source": [
    "file = np.loadtxt(\"namafile.csv\", delimiter = \",\").T  \n",
    "wave = file[0] * u.AA\n",
    "flux = file[1] * fluxunit"
   ]
  },
  {
   "cell_type": "markdown",
   "id": "17f8bdc3",
   "metadata": {},
   "source": [
    "Definisikan data spektrum sebagai spektrum 1 dimensi menggunakan package *specutils*. "
   ]
  },
  {
   "cell_type": "code",
   "execution_count": 13,
   "id": "24f466cd",
   "metadata": {},
   "outputs": [],
   "source": [
    "from specutils import Spectrum1D\n",
    "spec = Spectrum1D(spectral_axis=wave, flux=flux)"
   ]
  },
  {
   "cell_type": "markdown",
   "id": "f65aef2f",
   "metadata": {},
   "source": [
    "Plot spektrum di atas dengan menggunakan package *matplotlib*. Ini adalah spektrum planetary nebula yang memiliki garis kontinu lemah dan didominasi garis emisi."
   ]
  },
  {
   "cell_type": "code",
   "execution_count": 14,
   "id": "131eb30b",
   "metadata": {},
   "outputs": [
    {
     "data": {
      "image/png": "[encoded data removed]",
      "text/plain": [
       "<Figure size 432x288 with 1 Axes>"
      ]
     },
     "metadata": {
      "needs_background": "light"
     },
     "output_type": "display_data"
    }
   ],
   "source": [
    "import matplotlib.pyplot as plt\n",
    "\n",
    "#plot spectrum\n",
    "fig, ax = plt.subplots() \n",
    "ax.plot(spec.spectral_axis, spec.flux)  \n",
    "ax.set_xlabel(\"Wavelength (Angstrom)\")  \n",
    "ax.set_ylabel(\"Flux (erg/cm2/s/A)\") \n",
    "ax.grid(color='grey', alpha=0.8, linestyle='-.', linewidth=0.2, axis='both') \n",
    "ax.set_title(\"PN Spectra\", loc='center', fontsize=12, fontweight=0.5)\n",
    "\n",
    "#Show Plot\n",
    "plt.show()"
   ]
  },
  {
   "cell_type": "code",
   "execution_count": null,
   "id": "f962e1f5",
   "metadata": {},
   "outputs": [],
   "source": []
  }
 ],
 "metadata": {
  "kernelspec": {
   "display_name": "Python 3",
   "language": "python",
   "name": "python3"
  },
  "language_info": {
   "codemirror_mode": {
    "name": "ipython",
    "version": 3
   },
   "file_extension": ".py",
   "mimetype": "text/x-python",
   "name": "python",
   "nbconvert_exporter": "python",
   "pygments_lexer": "ipython3",
   "version": "3.8.8"
  }
 },
 "nbformat": 4,
 "nbformat_minor": 5
}
